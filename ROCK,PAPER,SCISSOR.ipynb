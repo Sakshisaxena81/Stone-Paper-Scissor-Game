{
 "cells": [
  {
   "cell_type": "code",
   "execution_count": 1,
   "metadata": {},
   "outputs": [],
   "source": [
    "from random import randint"
   ]
  },
  {
   "cell_type": "code",
   "execution_count": 2,
   "metadata": {},
   "outputs": [],
   "source": [
    "t=[\"Rock\",\"Paper\",\"Scissor\"]"
   ]
  },
  {
   "cell_type": "code",
   "execution_count": 3,
   "metadata": {},
   "outputs": [],
   "source": [
    "computer=t[randint(0,2)]"
   ]
  },
  {
   "cell_type": "code",
   "execution_count": 4,
   "metadata": {},
   "outputs": [],
   "source": [
    "player=False"
   ]
  },
  {
   "cell_type": "code",
   "execution_count": null,
   "metadata": {},
   "outputs": [],
   "source": [
    "while player==False:\n",
    "    player=input(\"Rock,Paper,Scissors?\")\n",
    "    if player==computer:\n",
    "        print(\"Tie!\")\n",
    "    elif player==\"Rock\":\n",
    "        if computer==\"Paper\":\n",
    "            print(\"You lose!\",computer,\"covers\",player)\n",
    "        else:\n",
    "            print(\"You win!\",player,\"smashes\",computer)\n",
    "    elif player==\"Paper\":\n",
    "        if computer==\"Scissor\":\n",
    "            print(\"You lose!\",computer,\"covers\",player)\n",
    "        else:\n",
    "            print(\"You win!\",player,\"smashes\",computer)\n",
    "    elif player==\"Scissor\":\n",
    "        if computer==\"Rock\":\n",
    "            print(\"You lose!\",computer,\"covers\",player)\n",
    "        else:\n",
    "            print(\"You win!\",player,\"smashes\",computer)\n",
    "    else:\n",
    "        print(\"That's not a valid play.check the spelling!\")\n",
    "    player=False \n",
    "    computer=t[randit(0,2)]\n",
    "            \n",
    "            \n",
    "            \n",
    "                \n",
    "            "
   ]
  },
  {
   "cell_type": "code",
   "execution_count": null,
   "metadata": {},
   "outputs": [],
   "source": []
  }
 ],
 "metadata": {
  "kernelspec": {
   "display_name": "Python 3",
   "language": "python",
   "name": "python3"
  },
  "language_info": {
   "codemirror_mode": {
    "name": "ipython",
    "version": 3
   },
   "file_extension": ".py",
   "mimetype": "text/x-python",
   "name": "python",
   "nbconvert_exporter": "python",
   "pygments_lexer": "ipython3",
   "version": "3.8.3"
  }
 },
 "nbformat": 4,
 "nbformat_minor": 4
}
